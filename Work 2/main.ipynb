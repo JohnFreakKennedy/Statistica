{
 "cells": [
  {
   "cell_type": "code",
   "execution_count": 16,
   "id": "f8d99a15-ba47-4867-914f-84ba9a3f7493",
   "metadata": {},
   "outputs": [],
   "source": [
    "import pandas as pd\n",
    "import numpy as np\n",
    "import seaborn as sns\n",
    "import matplotlib.pyplot as plt\n",
    "import matplotlib.ticker as ticker\n",
    "import scipy.integrate as integrate\n",
    "import scipy.special as special"
   ]
  },
  {
   "cell_type": "code",
   "execution_count": 110,
   "id": "0715e818-5f1d-4bd6-bf5a-9dfb9d735851",
   "metadata": {},
   "outputs": [],
   "source": [
    "class Data:\n",
    "    def __init__(self, inputData):\n",
    "        self.dataSeries = inputData\n",
    "        self.n = inputData.size\n",
    "        \n",
    "        \n",
    "    def variational_series(self):\n",
    "        variational_series = self.dataSeries.value_counts().rename_axis('x_i').reset_index(name='n_i')\n",
    "        variational_series = variational_series.sort_values(['x_i'])\n",
    "        variational_series['w_i'] = variational_series['n_i'].apply(lambda n_i: n_i/self.n)\n",
    "        return variational_series\n",
    "    \n",
    "    \n",
    "    def discrete_sample_mean(self):\n",
    "        xData = self.variational_series()['x_i'].tolist()\n",
    "        nData = self.variational_series()['n_i'].tolist()\n",
    "\n",
    "        res = 0\n",
    "        for i in range(len(xData)):\n",
    "            res += xData[i] * nData[i]\n",
    "        res /= self.n\n",
    "\n",
    "        return res\n",
    "\n",
    "\n",
    "    def discrete_D(self):\n",
    "            xData = self.variational_series()['x_i'].tolist()\n",
    "            nData = self.variational_series()['n_i'].tolist()\n",
    "            x_s = self.discrete_sample_mean()\n",
    "\n",
    "            res = 0\n",
    "            for i in range(len(xData)):\n",
    "                res += (xData[i] - x_s) * (xData[i] - x_s) * nData[i]\n",
    "            res /= self.n\n",
    "\n",
    "            return res\n",
    "    \n",
    "    \n",
    "    def discrete_standard_error(self):\n",
    "        return np.sqrt(self.discrete_D())\n",
    "    \n",
    "    \n",
    "    def big_F(self, x):\n",
    "        res = integrate.quad(lambda z: np.power(np.e, -z * z / 2), 0, x)[0]\n",
    "        res *= 1 / np.sqrt(2 * np.pi)\n",
    "        return res\n",
    "    \n",
    "    \n",
    "    def interval(self, x):  #1.96\n",
    "        interval = []\n",
    "        temp = self.discrete_sample_mean() - self.discrete_standard_error() * x / np.sqrt(self.n)\n",
    "        interval.append(temp)\n",
    "        temp = self.discrete_sample_mean() + self.discrete_standard_error() * x / np.sqrt(self.n)\n",
    "        interval.append(temp)\n",
    "        \n",
    "        return interval\n",
    "    \n",
    "    \n",
    "    def interval_series(self):\n",
    "        xData = self.variational_series()['x_i'].tolist()\n",
    "        nData = self.variational_series()['n_i'].tolist()\n",
    "        \n",
    "        k = 1 + 3.322 * np.log10(self.n)\n",
    "        h = round((xData[-1] - xData[0]) / k, 3)\n",
    "        value = xData[0] - h / 2\n",
    "        \n",
    "        intervalStart = []\n",
    "        intervalEnd = []\n",
    "        n = []\n",
    "        \n",
    "        while True:\n",
    "            intervalStart.append(round(value, 4))\n",
    "            value += h\n",
    "            intervalEnd.append(round(value, 4))\n",
    "            \n",
    "            if value >= xData[-1]:\n",
    "                break\n",
    "        intervalStart[0] = xData[0]\n",
    "        intervalEnd[-1] = xData[-1]\n",
    "        \n",
    "        n_i = 0\n",
    "        for i in range(len(intervalStart)):\n",
    "            for j in range(len(xData)):\n",
    "                if (xData[j] >= intervalStart[i]) and (xData[j] <= intervalEnd[i]):\n",
    "                    n_i += nData[j]\n",
    "            n.append(n_i)\n",
    "            n_i = 0\n",
    "        \n",
    "        df = pd.DataFrame(zip(intervalStart, intervalEnd, n), columns=['start', 'end', 'n_i'])\n",
    "        df['w_i'] = df['n_i'].apply(lambda n_i: n_i/self.n)\n",
    "        df['w_i/h'] = df['w_i'].apply(lambda n_i: round(n_i/h, 3))\n",
    "            \n",
    "        return df\n",
    "    \n",
    "    \n",
    "    def half_series(self):\n",
    "        xStartData = self.interval_series()['start'].tolist()\n",
    "        xEndData = self.interval_series()['end'].tolist()\n",
    "        nData = self.interval_series()['n_i'].tolist()\n",
    "        x = []\n",
    "        for i in range(len(xStartData)):\n",
    "            x.append((xStartData[i] + xEndData[i]) / 2)\n",
    "        df = pd.DataFrame(zip(x, nData), columns=['x_i', 'n_i'])\n",
    "        return df\n",
    "    \n",
    "    \n",
    "    \n",
    "    def S(self):\n",
    "        S2 = self.half_series()['x_i'].apply(lambda x: (x - self.discrete_sample_mean())**2)\n",
    "        S2 = S2 * self.half_series()['n_i']\n",
    "        S2 = S2.sum() * 1 / (self.n - 1)\n",
    "        S = np.sqrt(S2)\n",
    "        \n",
    "        return S\n",
    "                                             \n",
    "    def a(self):\n",
    "        return self.discrete_sample_mean() - np.sqrt(3) * self.S()\n",
    "    \n",
    "    def b(self):\n",
    "        return self.discrete_sample_mean() + np.sqrt(3) * self.S()\n",
    "    \n",
    "    \n",
    "    def p_list(self):\n",
    "        n = self.interval_series()['n_i'].tolist()\n",
    "        xStartData = self.interval_series()['start'].tolist()\n",
    "        xEndData = self.interval_series()['end'].tolist()\n",
    "        \n",
    "        p = []\n",
    "        p.append(0.082344)\n",
    "        for i in range(1, len(n) - 1):\n",
    "            p.append((xEndData[i] - xStartData[i])/(self.b() - self.a()))\n",
    "        p.append(0.073066)\n",
    "        \n",
    "        return pd.Series(p)\n",
    "    \n",
    "    \n",
    "    def xi_list(self):\n",
    "        p = self.p_list().tolist()\n",
    "        n = self.interval_series()['n_i'].tolist()\n",
    "        xi = []\n",
    "        for i in range(len(n)):\n",
    "            xi.append((n[i] - self.n * p[i])**2 / (self.n * p[i]))\n",
    "\n",
    "        return pd.Series(xi)\n",
    "    \n",
    "    def xi2(self):\n",
    "        return sum(self.xi_list())\n",
    "    "
   ]
  },
  {
   "cell_type": "code",
   "execution_count": 111,
   "id": "60c86e6f-15f2-4855-9ddf-86b4a051c40c",
   "metadata": {},
   "outputs": [],
   "source": [
    "inputData = pd.read_csv(r'D:/kpi/Statistica/CalcAndGraphic/Work 2/data.csv')\n",
    "Data1 = Data(inputData)"
   ]
  },
  {
   "cell_type": "code",
   "execution_count": 100,
   "id": "73af2102-7d24-44c6-9b65-20ce6f8efbd3",
   "metadata": {},
   "outputs": [
    {
     "data": {
      "text/html": [
       "<div>\n",
       "<style scoped>\n",
       "    .dataframe tbody tr th:only-of-type {\n",
       "        vertical-align: middle;\n",
       "    }\n",
       "\n",
       "    .dataframe tbody tr th {\n",
       "        vertical-align: top;\n",
       "    }\n",
       "\n",
       "    .dataframe thead th {\n",
       "        text-align: right;\n",
       "    }\n",
       "</style>\n",
       "<table border=\"1\" class=\"dataframe\">\n",
       "  <thead>\n",
       "    <tr style=\"text-align: right;\">\n",
       "      <th></th>\n",
       "      <th>x_i</th>\n",
       "      <th>n_i</th>\n",
       "      <th>w_i</th>\n",
       "    </tr>\n",
       "  </thead>\n",
       "  <tbody>\n",
       "    <tr>\n",
       "      <th>6</th>\n",
       "      <td>0.56</td>\n",
       "      <td>2</td>\n",
       "      <td>0.066667</td>\n",
       "    </tr>\n",
       "    <tr>\n",
       "      <th>7</th>\n",
       "      <td>0.57</td>\n",
       "      <td>2</td>\n",
       "      <td>0.066667</td>\n",
       "    </tr>\n",
       "    <tr>\n",
       "      <th>8</th>\n",
       "      <td>0.58</td>\n",
       "      <td>2</td>\n",
       "      <td>0.066667</td>\n",
       "    </tr>\n",
       "    <tr>\n",
       "      <th>2</th>\n",
       "      <td>0.59</td>\n",
       "      <td>3</td>\n",
       "      <td>0.100000</td>\n",
       "    </tr>\n",
       "    <tr>\n",
       "      <th>0</th>\n",
       "      <td>0.60</td>\n",
       "      <td>4</td>\n",
       "      <td>0.133333</td>\n",
       "    </tr>\n",
       "    <tr>\n",
       "      <th>1</th>\n",
       "      <td>0.61</td>\n",
       "      <td>4</td>\n",
       "      <td>0.133333</td>\n",
       "    </tr>\n",
       "    <tr>\n",
       "      <th>3</th>\n",
       "      <td>0.62</td>\n",
       "      <td>3</td>\n",
       "      <td>0.100000</td>\n",
       "    </tr>\n",
       "    <tr>\n",
       "      <th>9</th>\n",
       "      <td>0.63</td>\n",
       "      <td>2</td>\n",
       "      <td>0.066667</td>\n",
       "    </tr>\n",
       "    <tr>\n",
       "      <th>4</th>\n",
       "      <td>0.64</td>\n",
       "      <td>3</td>\n",
       "      <td>0.100000</td>\n",
       "    </tr>\n",
       "    <tr>\n",
       "      <th>10</th>\n",
       "      <td>0.65</td>\n",
       "      <td>2</td>\n",
       "      <td>0.066667</td>\n",
       "    </tr>\n",
       "    <tr>\n",
       "      <th>5</th>\n",
       "      <td>0.66</td>\n",
       "      <td>3</td>\n",
       "      <td>0.100000</td>\n",
       "    </tr>\n",
       "  </tbody>\n",
       "</table>\n",
       "</div>"
      ],
      "text/plain": [
       "     x_i  n_i       w_i\n",
       "6   0.56    2  0.066667\n",
       "7   0.57    2  0.066667\n",
       "8   0.58    2  0.066667\n",
       "2   0.59    3  0.100000\n",
       "0   0.60    4  0.133333\n",
       "1   0.61    4  0.133333\n",
       "3   0.62    3  0.100000\n",
       "9   0.63    2  0.066667\n",
       "4   0.64    3  0.100000\n",
       "10  0.65    2  0.066667\n",
       "5   0.66    3  0.100000"
      ]
     },
     "execution_count": 100,
     "metadata": {},
     "output_type": "execute_result"
    }
   ],
   "source": [
    "Data1.variational_series()"
   ]
  },
  {
   "cell_type": "code",
   "execution_count": 101,
   "id": "29514a51",
   "metadata": {},
   "outputs": [
    {
     "data": {
      "text/plain": [
       "0.6116666666666666"
      ]
     },
     "execution_count": 101,
     "metadata": {},
     "output_type": "execute_result"
    }
   ],
   "source": [
    "Data1.discrete_sample_mean()"
   ]
  },
  {
   "cell_type": "code",
   "execution_count": 102,
   "id": "aebb1800",
   "metadata": {},
   "outputs": [
    {
     "data": {
      "text/plain": [
       "0.0008672222222222229"
      ]
     },
     "execution_count": 102,
     "metadata": {},
     "output_type": "execute_result"
    }
   ],
   "source": [
    "Data1.discrete_D()"
   ]
  },
  {
   "cell_type": "code",
   "execution_count": 103,
   "id": "f81a93ef",
   "metadata": {},
   "outputs": [
    {
     "data": {
      "text/plain": [
       "0.02944863701807306"
      ]
     },
     "execution_count": 103,
     "metadata": {},
     "output_type": "execute_result"
    }
   ],
   "source": [
    "Data1.discrete_standard_error()"
   ]
  },
  {
   "cell_type": "code",
   "execution_count": 104,
   "id": "bd33b9c8",
   "metadata": {},
   "outputs": [
    {
     "data": {
      "text/plain": [
       "[0.6011286072487141, 0.6222047260846191]"
      ]
     },
     "execution_count": 104,
     "metadata": {},
     "output_type": "execute_result"
    }
   ],
   "source": [
    "Data1.interval(1.96)"
   ]
  },
  {
   "cell_type": "code",
   "execution_count": 105,
   "id": "c954789c",
   "metadata": {},
   "outputs": [
    {
     "data": {
      "text/html": [
       "<div>\n",
       "<style scoped>\n",
       "    .dataframe tbody tr th:only-of-type {\n",
       "        vertical-align: middle;\n",
       "    }\n",
       "\n",
       "    .dataframe tbody tr th {\n",
       "        vertical-align: top;\n",
       "    }\n",
       "\n",
       "    .dataframe thead th {\n",
       "        text-align: right;\n",
       "    }\n",
       "</style>\n",
       "<table border=\"1\" class=\"dataframe\">\n",
       "  <thead>\n",
       "    <tr style=\"text-align: right;\">\n",
       "      <th></th>\n",
       "      <th>start</th>\n",
       "      <th>end</th>\n",
       "      <th>n_i</th>\n",
       "      <th>w_i</th>\n",
       "      <th>w_i/h</th>\n",
       "    </tr>\n",
       "  </thead>\n",
       "  <tbody>\n",
       "    <tr>\n",
       "      <th>0</th>\n",
       "      <td>0.5600</td>\n",
       "      <td>0.5685</td>\n",
       "      <td>2</td>\n",
       "      <td>0.066667</td>\n",
       "      <td>3.922</td>\n",
       "    </tr>\n",
       "    <tr>\n",
       "      <th>1</th>\n",
       "      <td>0.5685</td>\n",
       "      <td>0.5855</td>\n",
       "      <td>4</td>\n",
       "      <td>0.133333</td>\n",
       "      <td>7.843</td>\n",
       "    </tr>\n",
       "    <tr>\n",
       "      <th>2</th>\n",
       "      <td>0.5855</td>\n",
       "      <td>0.6025</td>\n",
       "      <td>7</td>\n",
       "      <td>0.233333</td>\n",
       "      <td>13.725</td>\n",
       "    </tr>\n",
       "    <tr>\n",
       "      <th>3</th>\n",
       "      <td>0.6025</td>\n",
       "      <td>0.6195</td>\n",
       "      <td>4</td>\n",
       "      <td>0.133333</td>\n",
       "      <td>7.843</td>\n",
       "    </tr>\n",
       "    <tr>\n",
       "      <th>4</th>\n",
       "      <td>0.6195</td>\n",
       "      <td>0.6365</td>\n",
       "      <td>5</td>\n",
       "      <td>0.166667</td>\n",
       "      <td>9.804</td>\n",
       "    </tr>\n",
       "    <tr>\n",
       "      <th>5</th>\n",
       "      <td>0.6365</td>\n",
       "      <td>0.6535</td>\n",
       "      <td>5</td>\n",
       "      <td>0.166667</td>\n",
       "      <td>9.804</td>\n",
       "    </tr>\n",
       "    <tr>\n",
       "      <th>6</th>\n",
       "      <td>0.6535</td>\n",
       "      <td>0.6600</td>\n",
       "      <td>3</td>\n",
       "      <td>0.100000</td>\n",
       "      <td>5.882</td>\n",
       "    </tr>\n",
       "  </tbody>\n",
       "</table>\n",
       "</div>"
      ],
      "text/plain": [
       "    start     end  n_i       w_i   w_i/h\n",
       "0  0.5600  0.5685    2  0.066667   3.922\n",
       "1  0.5685  0.5855    4  0.133333   7.843\n",
       "2  0.5855  0.6025    7  0.233333  13.725\n",
       "3  0.6025  0.6195    4  0.133333   7.843\n",
       "4  0.6195  0.6365    5  0.166667   9.804\n",
       "5  0.6365  0.6535    5  0.166667   9.804\n",
       "6  0.6535  0.6600    3  0.100000   5.882"
      ]
     },
     "execution_count": 105,
     "metadata": {},
     "output_type": "execute_result"
    }
   ],
   "source": [
    "Data1.interval_series()"
   ]
  },
  {
   "cell_type": "code",
   "execution_count": 106,
   "id": "c4c22655",
   "metadata": {},
   "outputs": [
    {
     "data": {
      "text/html": [
       "<div>\n",
       "<style scoped>\n",
       "    .dataframe tbody tr th:only-of-type {\n",
       "        vertical-align: middle;\n",
       "    }\n",
       "\n",
       "    .dataframe tbody tr th {\n",
       "        vertical-align: top;\n",
       "    }\n",
       "\n",
       "    .dataframe thead th {\n",
       "        text-align: right;\n",
       "    }\n",
       "</style>\n",
       "<table border=\"1\" class=\"dataframe\">\n",
       "  <thead>\n",
       "    <tr style=\"text-align: right;\">\n",
       "      <th></th>\n",
       "      <th>x_i</th>\n",
       "      <th>n_i</th>\n",
       "    </tr>\n",
       "  </thead>\n",
       "  <tbody>\n",
       "    <tr>\n",
       "      <th>0</th>\n",
       "      <td>0.56425</td>\n",
       "      <td>2</td>\n",
       "    </tr>\n",
       "    <tr>\n",
       "      <th>1</th>\n",
       "      <td>0.57700</td>\n",
       "      <td>4</td>\n",
       "    </tr>\n",
       "    <tr>\n",
       "      <th>2</th>\n",
       "      <td>0.59400</td>\n",
       "      <td>7</td>\n",
       "    </tr>\n",
       "    <tr>\n",
       "      <th>3</th>\n",
       "      <td>0.61100</td>\n",
       "      <td>4</td>\n",
       "    </tr>\n",
       "    <tr>\n",
       "      <th>4</th>\n",
       "      <td>0.62800</td>\n",
       "      <td>5</td>\n",
       "    </tr>\n",
       "    <tr>\n",
       "      <th>5</th>\n",
       "      <td>0.64500</td>\n",
       "      <td>5</td>\n",
       "    </tr>\n",
       "    <tr>\n",
       "      <th>6</th>\n",
       "      <td>0.65675</td>\n",
       "      <td>3</td>\n",
       "    </tr>\n",
       "  </tbody>\n",
       "</table>\n",
       "</div>"
      ],
      "text/plain": [
       "       x_i  n_i\n",
       "0  0.56425    2\n",
       "1  0.57700    4\n",
       "2  0.59400    7\n",
       "3  0.61100    4\n",
       "4  0.62800    5\n",
       "5  0.64500    5\n",
       "6  0.65675    3"
      ]
     },
     "execution_count": 106,
     "metadata": {},
     "output_type": "execute_result"
    }
   ],
   "source": [
    "Data1.half_series()"
   ]
  },
  {
   "cell_type": "code",
   "execution_count": 107,
   "id": "9943d8f5",
   "metadata": {},
   "outputs": [
    {
     "data": {
      "text/plain": [
       "0.5613463350316101"
      ]
     },
     "execution_count": 107,
     "metadata": {},
     "output_type": "execute_result"
    }
   ],
   "source": [
    "Data1.a()"
   ]
  },
  {
   "cell_type": "code",
   "execution_count": 108,
   "id": "c5b5ef94",
   "metadata": {},
   "outputs": [
    {
     "data": {
      "text/plain": [
       "0.661986998301723"
      ]
     },
     "execution_count": 108,
     "metadata": {},
     "output_type": "execute_result"
    }
   ],
   "source": [
    "Data1.b()"
   ]
  },
  {
   "cell_type": "code",
   "execution_count": 109,
   "id": "75dae560",
   "metadata": {},
   "outputs": [
    {
     "data": {
      "text/plain": [
       "0    0.082344\n",
       "1    0.168918\n",
       "2    0.168918\n",
       "3    0.168918\n",
       "4    0.168918\n",
       "5    0.168918\n",
       "6    0.073066\n",
       "dtype: float64"
      ]
     },
     "execution_count": 109,
     "metadata": {},
     "output_type": "execute_result"
    }
   ],
   "source": [
    "Data1.p_list()"
   ]
  },
  {
   "cell_type": "code",
   "execution_count": 112,
   "id": "c9174ab3",
   "metadata": {},
   "outputs": [
    {
     "data": {
      "text/plain": [
       "0    0.089543\n",
       "1    0.224888\n",
       "2    0.736931\n",
       "3    0.224888\n",
       "4    0.000900\n",
       "5    0.000900\n",
       "6    0.297857\n",
       "dtype: float64"
      ]
     },
     "execution_count": 112,
     "metadata": {},
     "output_type": "execute_result"
    }
   ],
   "source": [
    "Data1.xi_list()"
   ]
  },
  {
   "cell_type": "code",
   "execution_count": 113,
   "id": "4c220e9a",
   "metadata": {},
   "outputs": [
    {
     "data": {
      "text/plain": [
       "1.5759081843008405"
      ]
     },
     "execution_count": 113,
     "metadata": {},
     "output_type": "execute_result"
    }
   ],
   "source": [
    "Data1.xi2()"
   ]
  },
  {
   "cell_type": "code",
   "execution_count": null,
   "id": "685c0d0a",
   "metadata": {},
   "outputs": [],
   "source": []
  }
 ],
 "metadata": {
  "kernelspec": {
   "display_name": "venv",
   "language": "python",
   "name": "venv"
  },
  "language_info": {
   "codemirror_mode": {
    "name": "ipython",
    "version": 3
   },
   "file_extension": ".py",
   "mimetype": "text/x-python",
   "name": "python",
   "nbconvert_exporter": "python",
   "pygments_lexer": "ipython3",
   "version": "3.10.0"
  }
 },
 "nbformat": 4,
 "nbformat_minor": 5
}
