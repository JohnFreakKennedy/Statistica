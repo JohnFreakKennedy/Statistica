{
 "cells": [
  {
   "cell_type": "code",
   "execution_count": 19,
   "id": "f8d99a15-ba47-4867-914f-84ba9a3f7493",
   "metadata": {},
   "outputs": [],
   "source": [
    "import pandas as pd\n",
    "import numpy as np\n",
    "import matplotlib.pyplot as plt\n",
    "import matplotlib.ticker as ticker"
   ]
  },
  {
   "cell_type": "code",
   "execution_count": 22,
   "id": "0715e818-5f1d-4bd6-bf5a-9dfb9d735851",
   "metadata": {},
   "outputs": [],
   "source": [
    "class Data:\n",
    "    def __init__(self, inputData):\n",
    "        inputData['x_i*y_i'] = inputData['y_i'] * inputData['x_i']\n",
    "        inputData['x_i^2'] = inputData['x_i'].apply(lambda x: x * x)\n",
    "        inputData['y_i^2'] = inputData['y_i'].apply(lambda y: y * y)\n",
    "        \n",
    "        self.n = inputData.shape[0]\n",
    "        self.dataFrame = inputData\n",
    "        \n",
    "    def x_sample_mean(self):\n",
    "        return self.dataFrame['x_i'].mean()\n",
    "    \n",
    "    def y_sample_mean(self):\n",
    "        return self.dataFrame['y_i'].mean()\n",
    "\n",
    "    def x_D(self):\n",
    "        D = self.dataFrame['x_i'] * self.dataFrame['x_i']\n",
    "        D = D.mean() - self.x_sample_mean()**2\n",
    "        return D\n",
    "    \n",
    "    def y_D(self):\n",
    "        D = self.dataFrame['y_i'] * self.dataFrame['y_i']\n",
    "        D = D.mean() - self.y_sample_mean()**2\n",
    "        return D   \n",
    "    \n",
    "    def x_standard_error(self):\n",
    "        return self.x_D()**0.5\n",
    "    \n",
    "    def y_standard_error(self):\n",
    "        return self.y_D()**0.5\n",
    "    \n",
    "    def K_xy(self):\n",
    "        K = self.dataFrame['x_i'] * self.dataFrame['y_i']\n",
    "        K = K.mean() - self.y_sample_mean()*self.x_sample_mean()\n",
    "        return K\n",
    "        \n",
    "    def r(self):\n",
    "        \n",
    "        return self.K_xy()/(self.x_standard_error()*self.y_standard_error())\n",
    "    \n",
    "    def beta(self):\n",
    "        beta1 = sum(self.dataFrame['x_i*y_i']) / self.n\n",
    "        beta1 -= self.dataFrame['y_i'].mean() * self.dataFrame['x_i'].mean()\n",
    "        beta1 /= (sum(self.dataFrame['x_i^2']) / self.n) - self.dataFrame['x_i'].mean()**2\n",
    "        beta0 = self.dataFrame['y_i'].mean() - beta1 * self.dataFrame['x_i'].mean()\n",
    "        \n",
    "        return beta0, beta1\n",
    "    "
   ]
  },
  {
   "cell_type": "code",
   "execution_count": 23,
   "id": "60c86e6f-15f2-4855-9ddf-86b4a051c40c",
   "metadata": {},
   "outputs": [],
   "source": [
    "inputData = pd.read_csv('C:/Users/charl/Downloads/Statistica/CalcAndGraphic/Work 3/data.csv',delimiter = ';',header = 0)\n",
    "Data1 = Data(inputData)"
   ]
  },
  {
   "cell_type": "code",
   "execution_count": 24,
   "id": "73af2102-7d24-44c6-9b65-20ce6f8efbd3",
   "metadata": {},
   "outputs": [
    {
     "data": {
      "text/html": [
       "<div>\n",
       "<style scoped>\n",
       "    .dataframe tbody tr th:only-of-type {\n",
       "        vertical-align: middle;\n",
       "    }\n",
       "\n",
       "    .dataframe tbody tr th {\n",
       "        vertical-align: top;\n",
       "    }\n",
       "\n",
       "    .dataframe thead th {\n",
       "        text-align: right;\n",
       "    }\n",
       "</style>\n",
       "<table border=\"1\" class=\"dataframe\">\n",
       "  <thead>\n",
       "    <tr style=\"text-align: right;\">\n",
       "      <th></th>\n",
       "      <th>y_i</th>\n",
       "      <th>x_i</th>\n",
       "      <th>x_i*y_i</th>\n",
       "      <th>x_i^2</th>\n",
       "      <th>y_i^2</th>\n",
       "    </tr>\n",
       "  </thead>\n",
       "  <tbody>\n",
       "    <tr>\n",
       "      <th>0</th>\n",
       "      <td>115</td>\n",
       "      <td>62.1</td>\n",
       "      <td>7141.5</td>\n",
       "      <td>3856.41</td>\n",
       "      <td>13225</td>\n",
       "    </tr>\n",
       "    <tr>\n",
       "      <th>1</th>\n",
       "      <td>116</td>\n",
       "      <td>61.1</td>\n",
       "      <td>7087.6</td>\n",
       "      <td>3733.21</td>\n",
       "      <td>13456</td>\n",
       "    </tr>\n",
       "    <tr>\n",
       "      <th>2</th>\n",
       "      <td>117</td>\n",
       "      <td>61.0</td>\n",
       "      <td>7137.0</td>\n",
       "      <td>3721.00</td>\n",
       "      <td>13689</td>\n",
       "    </tr>\n",
       "    <tr>\n",
       "      <th>3</th>\n",
       "      <td>118</td>\n",
       "      <td>60.5</td>\n",
       "      <td>7139.0</td>\n",
       "      <td>3660.25</td>\n",
       "      <td>13924</td>\n",
       "    </tr>\n",
       "    <tr>\n",
       "      <th>4</th>\n",
       "      <td>119</td>\n",
       "      <td>60.0</td>\n",
       "      <td>7140.0</td>\n",
       "      <td>3600.00</td>\n",
       "      <td>14161</td>\n",
       "    </tr>\n",
       "    <tr>\n",
       "      <th>5</th>\n",
       "      <td>120</td>\n",
       "      <td>59.0</td>\n",
       "      <td>7080.0</td>\n",
       "      <td>3481.00</td>\n",
       "      <td>14400</td>\n",
       "    </tr>\n",
       "    <tr>\n",
       "      <th>6</th>\n",
       "      <td>121</td>\n",
       "      <td>58.5</td>\n",
       "      <td>7078.5</td>\n",
       "      <td>3422.25</td>\n",
       "      <td>14641</td>\n",
       "    </tr>\n",
       "    <tr>\n",
       "      <th>7</th>\n",
       "      <td>122</td>\n",
       "      <td>58.0</td>\n",
       "      <td>7076.0</td>\n",
       "      <td>3364.00</td>\n",
       "      <td>14884</td>\n",
       "    </tr>\n",
       "  </tbody>\n",
       "</table>\n",
       "</div>"
      ],
      "text/plain": [
       "   y_i   x_i  x_i*y_i    x_i^2  y_i^2\n",
       "0  115  62.1   7141.5  3856.41  13225\n",
       "1  116  61.1   7087.6  3733.21  13456\n",
       "2  117  61.0   7137.0  3721.00  13689\n",
       "3  118  60.5   7139.0  3660.25  13924\n",
       "4  119  60.0   7140.0  3600.00  14161\n",
       "5  120  59.0   7080.0  3481.00  14400\n",
       "6  121  58.5   7078.5  3422.25  14641\n",
       "7  122  58.0   7076.0  3364.00  14884"
      ]
     },
     "execution_count": 24,
     "metadata": {},
     "output_type": "execute_result"
    }
   ],
   "source": [
    "Data1.dataFrame"
   ]
  },
  {
   "cell_type": "code",
   "execution_count": 25,
   "id": "64ee1231",
   "metadata": {},
   "outputs": [
    {
     "data": {
      "text/plain": [
       "60.025"
      ]
     },
     "execution_count": 25,
     "metadata": {},
     "output_type": "execute_result"
    }
   ],
   "source": [
    "Data1.x_sample_mean()"
   ]
  },
  {
   "cell_type": "code",
   "execution_count": 26,
   "id": "ed8fb5d3",
   "metadata": {},
   "outputs": [
    {
     "data": {
      "text/plain": [
       "118.5"
      ]
     },
     "execution_count": 26,
     "metadata": {},
     "output_type": "execute_result"
    }
   ],
   "source": [
    "Data1.y_sample_mean()"
   ]
  },
  {
   "cell_type": "code",
   "execution_count": 27,
   "id": "f146fa75",
   "metadata": {},
   "outputs": [
    {
     "data": {
      "text/plain": [
       "1.7643750000006548"
      ]
     },
     "execution_count": 27,
     "metadata": {},
     "output_type": "execute_result"
    }
   ],
   "source": [
    "Data1.x_D()"
   ]
  },
  {
   "cell_type": "code",
   "execution_count": 28,
   "id": "1beadd2f",
   "metadata": {},
   "outputs": [
    {
     "data": {
      "text/plain": [
       "5.25"
      ]
     },
     "execution_count": 28,
     "metadata": {},
     "output_type": "execute_result"
    }
   ],
   "source": [
    "Data1.y_D()"
   ]
  },
  {
   "cell_type": "code",
   "execution_count": 29,
   "id": "a5f2ea3a",
   "metadata": {},
   "outputs": [
    {
     "data": {
      "text/plain": [
       "1.3282977828787697"
      ]
     },
     "execution_count": 29,
     "metadata": {},
     "output_type": "execute_result"
    }
   ],
   "source": [
    "Data1.x_standard_error()"
   ]
  },
  {
   "cell_type": "code",
   "execution_count": 30,
   "id": "8576c542",
   "metadata": {},
   "outputs": [
    {
     "data": {
      "text/plain": [
       "2.29128784747792"
      ]
     },
     "execution_count": 30,
     "metadata": {},
     "output_type": "execute_result"
    }
   ],
   "source": [
    "Data1.y_standard_error()"
   ]
  },
  {
   "cell_type": "code",
   "execution_count": 31,
   "id": "45787e01",
   "metadata": {},
   "outputs": [
    {
     "data": {
      "text/plain": [
       "-3.012499999999818"
      ]
     },
     "execution_count": 31,
     "metadata": {},
     "output_type": "execute_result"
    }
   ],
   "source": [
    "Data1.K_xy()"
   ]
  },
  {
   "cell_type": "code",
   "execution_count": 32,
   "id": "7332efd0",
   "metadata": {},
   "outputs": [
    {
     "data": {
      "text/plain": [
       "-0.9898102711745396"
      ]
     },
     "execution_count": 32,
     "metadata": {},
     "output_type": "execute_result"
    }
   ],
   "source": [
    "Data1.r()"
   ]
  },
  {
   "cell_type": "code",
   "execution_count": 33,
   "id": "b4f445af",
   "metadata": {},
   "outputs": [
    {
     "data": {
      "text/plain": [
       "(220.98689337579708, -1.7074034714834998)"
      ]
     },
     "execution_count": 33,
     "metadata": {},
     "output_type": "execute_result"
    }
   ],
   "source": [
    "Data1.beta()"
   ]
  },
  {
   "cell_type": "code",
   "execution_count": null,
   "id": "05b49a05",
   "metadata": {},
   "outputs": [],
   "source": []
  }
 ],
 "metadata": {
  "kernelspec": {
   "display_name": "Python 3 (ipykernel)",
   "language": "python",
   "name": "python3"
  },
  "language_info": {
   "codemirror_mode": {
    "name": "ipython",
    "version": 3
   },
   "file_extension": ".py",
   "mimetype": "text/x-python",
   "name": "python",
   "nbconvert_exporter": "python",
   "pygments_lexer": "ipython3",
   "version": "3.9.12"
  }
 },
 "nbformat": 4,
 "nbformat_minor": 5
}
