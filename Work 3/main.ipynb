{
 "cells": [
  {
   "cell_type": "code",
   "execution_count": 3,
   "id": "f8d99a15-ba47-4867-914f-84ba9a3f7493",
   "metadata": {},
   "outputs": [],
   "source": [
    "import pandas as pd\n",
    "import numpy as np\n",
    "import matplotlib.pyplot as plt\n",
    "import matplotlib.ticker as ticker"
   ]
  },
  {
   "cell_type": "code",
   "execution_count": 66,
   "id": "0715e818-5f1d-4bd6-bf5a-9dfb9d735851",
   "metadata": {},
   "outputs": [],
   "source": [
    "class Data:\n",
    "    def __init__(self, inputData):\n",
    "        inputData['x_i*y_i'] = inputData['y_i'] * inputData['x_i']\n",
    "        inputData['x_i^2'] = inputData['x_i'].apply(lambda x: x * x)\n",
    "        inputData['y_i^2'] = inputData['y_i'].apply(lambda y: y * y)\n",
    "        \n",
    "        self.n = inputData.shape[0]\n",
    "        self.dataFrame = inputData\n",
    "        \n",
    "        \n",
    "    def x_sample_mean(self):\n",
    "        return self.dataFrame['x_i'].mean()\n",
    "    \n",
    "    def y_sample_mean(self):\n",
    "        return self.dataFrame['y_i'].mean()\n",
    "\n",
    "\n",
    "    def x_D(self):\n",
    "        D = self.dataFrame['x_i'] * self.dataFrame['x_i']\n",
    "        D = D.mean() - self.x_sample_mean()**2\n",
    "        return D\n",
    "    \n",
    "    \n",
    "    def y_D(self):\n",
    "        D = self.dataFrame['y_i'] * self.dataFrame['y_i']\n",
    "        D = D.mean() - self.y_sample_mean()**2\n",
    "        return D\n",
    "    \n",
    "    \n",
    "    def x_standard_error(self):\n",
    "        return self.x_D()**0.5\n",
    "    \n",
    "    \n",
    "    \n",
    "    def y_standard_error(self):\n",
    "        return self.y_D()**0.5\n",
    "    \n",
    "    \n",
    "    def K_xy(self):\n",
    "        K = self.dataFrame['x_i'] * self.dataFrame['y_i']\n",
    "        K = K.mean() - self.y_sample_mean()*self.x_sample_mean()\n",
    "        return K\n",
    "        \n",
    "        \n",
    "    def r(self):\n",
    "        \n",
    "        return self.K_xy()/(self.x_standard_error()*self.y_standard_error())\n",
    "    \n",
    "    def beta(self):\n",
    "        beta1 = sum(self.dataFrame['x_i*y_i']) / self.n\n",
    "        beta1 -= self.dataFrame['y_i'].mean() * self.dataFrame['x_i'].mean()\n",
    "        beta1 /= (sum(self.dataFrame['x_i^2']) / self.n) - self.dataFrame['x_i'].mean()**2\n",
    "        beta0 = self.dataFrame['y_i'].mean() - beta1 * self.dataFrame['x_i'].mean()\n",
    "        \n",
    "        return beta0, beta1\n",
    "    "
   ]
  },
  {
   "cell_type": "code",
   "execution_count": 67,
   "id": "60c86e6f-15f2-4855-9ddf-86b4a051c40c",
   "metadata": {},
   "outputs": [],
   "source": [
    "inputData = pd.read_csv('D:/kpi/Statistica/CalcAndGraphic/Work 3/data.csv', delimiter = ';', header = 0)\n",
    "Data1 = Data(inputData)"
   ]
  },
  {
   "cell_type": "code",
   "execution_count": 68,
   "id": "73af2102-7d24-44c6-9b65-20ce6f8efbd3",
   "metadata": {},
   "outputs": [
    {
     "data": {
      "text/html": [
       "<div>\n",
       "<style scoped>\n",
       "    .dataframe tbody tr th:only-of-type {\n",
       "        vertical-align: middle;\n",
       "    }\n",
       "\n",
       "    .dataframe tbody tr th {\n",
       "        vertical-align: top;\n",
       "    }\n",
       "\n",
       "    .dataframe thead th {\n",
       "        text-align: right;\n",
       "    }\n",
       "</style>\n",
       "<table border=\"1\" class=\"dataframe\">\n",
       "  <thead>\n",
       "    <tr style=\"text-align: right;\">\n",
       "      <th></th>\n",
       "      <th>y_i</th>\n",
       "      <th>x_i</th>\n",
       "      <th>x_i*y_i</th>\n",
       "      <th>x_i^2</th>\n",
       "      <th>y_i^2</th>\n",
       "    </tr>\n",
       "  </thead>\n",
       "  <tbody>\n",
       "    <tr>\n",
       "      <th>0</th>\n",
       "      <td>0.715</td>\n",
       "      <td>0.689</td>\n",
       "      <td>0.492635</td>\n",
       "      <td>0.474721</td>\n",
       "      <td>0.511225</td>\n",
       "    </tr>\n",
       "    <tr>\n",
       "      <th>1</th>\n",
       "      <td>0.725</td>\n",
       "      <td>0.692</td>\n",
       "      <td>0.501700</td>\n",
       "      <td>0.478864</td>\n",
       "      <td>0.525625</td>\n",
       "    </tr>\n",
       "    <tr>\n",
       "      <th>2</th>\n",
       "      <td>0.781</td>\n",
       "      <td>0.694</td>\n",
       "      <td>0.542014</td>\n",
       "      <td>0.481636</td>\n",
       "      <td>0.609961</td>\n",
       "    </tr>\n",
       "    <tr>\n",
       "      <th>3</th>\n",
       "      <td>0.790</td>\n",
       "      <td>0.698</td>\n",
       "      <td>0.551420</td>\n",
       "      <td>0.487204</td>\n",
       "      <td>0.624100</td>\n",
       "    </tr>\n",
       "    <tr>\n",
       "      <th>4</th>\n",
       "      <td>0.795</td>\n",
       "      <td>0.690</td>\n",
       "      <td>0.548550</td>\n",
       "      <td>0.476100</td>\n",
       "      <td>0.632025</td>\n",
       "    </tr>\n",
       "    <tr>\n",
       "      <th>5</th>\n",
       "      <td>0.800</td>\n",
       "      <td>0.710</td>\n",
       "      <td>0.568000</td>\n",
       "      <td>0.504100</td>\n",
       "      <td>0.640000</td>\n",
       "    </tr>\n",
       "    <tr>\n",
       "      <th>6</th>\n",
       "      <td>0.810</td>\n",
       "      <td>0.720</td>\n",
       "      <td>0.583200</td>\n",
       "      <td>0.518400</td>\n",
       "      <td>0.656100</td>\n",
       "    </tr>\n",
       "    <tr>\n",
       "      <th>7</th>\n",
       "      <td>0.850</td>\n",
       "      <td>0.725</td>\n",
       "      <td>0.616250</td>\n",
       "      <td>0.525625</td>\n",
       "      <td>0.722500</td>\n",
       "    </tr>\n",
       "  </tbody>\n",
       "</table>\n",
       "</div>"
      ],
      "text/plain": [
       "     y_i    x_i   x_i*y_i     x_i^2     y_i^2\n",
       "0  0.715  0.689  0.492635  0.474721  0.511225\n",
       "1  0.725  0.692  0.501700  0.478864  0.525625\n",
       "2  0.781  0.694  0.542014  0.481636  0.609961\n",
       "3  0.790  0.698  0.551420  0.487204  0.624100\n",
       "4  0.795  0.690  0.548550  0.476100  0.632025\n",
       "5  0.800  0.710  0.568000  0.504100  0.640000\n",
       "6  0.810  0.720  0.583200  0.518400  0.656100\n",
       "7  0.850  0.725  0.616250  0.525625  0.722500"
      ]
     },
     "execution_count": 68,
     "metadata": {},
     "output_type": "execute_result"
    }
   ],
   "source": [
    "Data1.dataFrame"
   ]
  },
  {
   "cell_type": "code",
   "execution_count": 69,
   "id": "64ee1231",
   "metadata": {},
   "outputs": [
    {
     "data": {
      "text/plain": [
       "0.7022499999999999"
      ]
     },
     "execution_count": 69,
     "metadata": {},
     "output_type": "execute_result"
    }
   ],
   "source": [
    "Data1.x_sample_mean()"
   ]
  },
  {
   "cell_type": "code",
   "execution_count": 70,
   "id": "ed8fb5d3",
   "metadata": {},
   "outputs": [
    {
     "data": {
      "text/plain": [
       "0.78325"
      ]
     },
     "execution_count": 70,
     "metadata": {},
     "output_type": "execute_result"
    }
   ],
   "source": [
    "Data1.y_sample_mean()"
   ]
  },
  {
   "cell_type": "code",
   "execution_count": 71,
   "id": "f146fa75",
   "metadata": {},
   "outputs": [
    {
     "data": {
      "text/plain": [
       "0.0001761875000000912"
      ]
     },
     "execution_count": 71,
     "metadata": {},
     "output_type": "execute_result"
    }
   ],
   "source": [
    "Data1.x_D()"
   ]
  },
  {
   "cell_type": "code",
   "execution_count": 72,
   "id": "1beadd2f",
   "metadata": {},
   "outputs": [
    {
     "data": {
      "text/plain": [
       "0.0017114374999999127"
      ]
     },
     "execution_count": 72,
     "metadata": {},
     "output_type": "execute_result"
    }
   ],
   "source": [
    "Data1.y_D()"
   ]
  },
  {
   "cell_type": "code",
   "execution_count": 73,
   "id": "a5f2ea3a",
   "metadata": {},
   "outputs": [
    {
     "data": {
      "text/plain": [
       "0.013273563952461721"
      ]
     },
     "execution_count": 73,
     "metadata": {},
     "output_type": "execute_result"
    }
   ],
   "source": [
    "Data1.x_standard_error()"
   ]
  },
  {
   "cell_type": "code",
   "execution_count": 74,
   "id": "8576c542",
   "metadata": {},
   "outputs": [
    {
     "data": {
      "text/plain": [
       "0.04136952380678212"
      ]
     },
     "execution_count": 74,
     "metadata": {},
     "output_type": "execute_result"
    }
   ],
   "source": [
    "Data1.y_standard_error()"
   ]
  },
  {
   "cell_type": "code",
   "execution_count": 75,
   "id": "45787e01",
   "metadata": {},
   "outputs": [
    {
     "data": {
      "text/plain": [
       "0.00043381249999996374"
      ]
     },
     "execution_count": 75,
     "metadata": {},
     "output_type": "execute_result"
    }
   ],
   "source": [
    "Data1.K_xy()"
   ]
  },
  {
   "cell_type": "code",
   "execution_count": 76,
   "id": "7332efd0",
   "metadata": {},
   "outputs": [
    {
     "data": {
      "text/plain": [
       "0.7900125550712275"
      ]
     },
     "execution_count": 76,
     "metadata": {},
     "output_type": "execute_result"
    }
   ],
   "source": [
    "Data1.r()"
   ]
  },
  {
   "cell_type": "code",
   "execution_count": 79,
   "id": "b4f445af",
   "metadata": {},
   "outputs": [
    {
     "data": {
      "text/plain": [
       "(-0.945844448386445, 2.4622206456197153)"
      ]
     },
     "execution_count": 79,
     "metadata": {},
     "output_type": "execute_result"
    }
   ],
   "source": [
    "Data1.beta()"
   ]
  },
  {
   "cell_type": "code",
   "execution_count": null,
   "id": "05b49a05",
   "metadata": {},
   "outputs": [],
   "source": []
  }
 ],
 "metadata": {
  "kernelspec": {
   "display_name": "venv",
   "language": "python",
   "name": "venv"
  },
  "language_info": {
   "codemirror_mode": {
    "name": "ipython",
    "version": 3
   },
   "file_extension": ".py",
   "mimetype": "text/x-python",
   "name": "python",
   "nbconvert_exporter": "python",
   "pygments_lexer": "ipython3",
   "version": "3.10.0"
  }
 },
 "nbformat": 4,
 "nbformat_minor": 5
}
