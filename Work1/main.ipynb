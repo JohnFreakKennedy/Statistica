{
 "cells": [
  {
   "cell_type": "code",
   "execution_count": 1,
   "id": "f8d99a15-ba47-4867-914f-84ba9a3f7493",
   "metadata": {},
   "outputs": [],
   "source": [
    "import pandas as pd\n",
    "import numpy as np\n",
    "import seaborn as sns\n",
    "import matplotlib.pyplot as plt\n",
    "import matplotlib.ticker as ticker"
   ]
  },
  {
   "cell_type": "code",
   "execution_count": 2,
   "id": "0715e818-5f1d-4bd6-bf5a-9dfb9d735851",
   "metadata": {},
   "outputs": [],
   "source": [
    "class Data:\n",
    "    def __init__(self, inputData):\n",
    "        self.dataSeries = inputData\n",
    "        self.n = inputData.size\n",
    "        \n",
    "    def variational_series(self):\n",
    "        variational_series = self.dataSeries.value_counts().rename_axis('x_i').reset_index(name='n_i')\n",
    "        variational_series = variational_series.sort_values(['x_i'])\n",
    "        variational_series['w_i'] = variational_series['n_i'].apply(lambda n_i: n_i/self.n)\n",
    "        return variational_series\n",
    "    \n",
    "    def series_polygon(self):\n",
    "        fig, ax = plt.subplots()\n",
    "        ax.plot('x_i', 'w_i', data=self.variational_series(), marker='.', linewidth = 2)\n",
    "        \n",
    "        ax.xaxis.set_major_locator(ticker.MultipleLocator(0.01))\n",
    "        ax.yaxis.set_major_locator(ticker.MultipleLocator(0.01))\n",
    "        ax.grid(which='major', color = 'gray', linestyle = ':')\n",
    "        ax.set_xlabel('x_i')\n",
    "        ax.set_ylabel('w_i')\n",
    "    \n",
    "    def discrete_F(self):\n",
    "        xData = self.variational_series()['x_i'].tolist()\n",
    "        wData = self.variational_series()['w_i'].tolist()\n",
    "        result = []\n",
    "        \n",
    "        value = 0\n",
    "        i = 0\n",
    "        j = -1\n",
    "        \n",
    "        sheets = [f'(-inf, {xData[0]}]']\n",
    "        F = [0]\n",
    "        \n",
    "        for x in np.linspace(xData[0], xData[-1], 100):\n",
    "            if x <= xData[i]:\n",
    "                result.append(value)\n",
    "            else:\n",
    "                sheets.append(f'({xData[i]}, {xData[i + 1]}]')\n",
    "                i += 1\n",
    "                j += 1\n",
    "                value += wData[j]\n",
    "                F.append(value)\n",
    "                result.append(value)\n",
    "                \n",
    "        sheets.append(f'({xData[-1]}, inf)')\n",
    "        F.append(1)\n",
    "        df = pd.DataFrame(zip(sheets, F), columns=['interval', 'F'])\n",
    "        \n",
    "        return df, result\n",
    "    \n",
    "    \n",
    "    def interval_series(self):\n",
    "        xData = self.variational_series()['x_i'].tolist()\n",
    "        nData = self.variational_series()['n_i'].tolist()\n",
    "        \n",
    "        k = 1 + 3.322 * np.log10(self.n)\n",
    "        h = round((xData[-1] - xData[0]) / k, 3)\n",
    "        value = xData[0] - h / 2\n",
    "        \n",
    "        intervalStart = []\n",
    "        intervalEnd = []\n",
    "        n = []\n",
    "        \n",
    "        while True:\n",
    "            intervalStart.append(round(value, 4))\n",
    "            value += h\n",
    "            intervalEnd.append(round(value, 4))\n",
    "            \n",
    "            if value >= xData[-1]:\n",
    "                break\n",
    "        intervalStart[0] = xData[0]\n",
    "        intervalEnd[-1] = xData[-1]\n",
    "        \n",
    "        n_i = 0\n",
    "        for i in range(len(intervalStart)):\n",
    "            for j in range(len(xData)):\n",
    "                if (xData[j] >= intervalStart[i]) and (xData[j] <= intervalEnd[i]):\n",
    "                    n_i += nData[j]\n",
    "            n.append(n_i)\n",
    "            n_i = 0\n",
    "        \n",
    "        df = pd.DataFrame(zip(intervalStart, intervalEnd, n), columns=['start', 'end', 'n_i'])\n",
    "        df['w_i'] = df['n_i'].apply(lambda n_i: n_i/self.n)\n",
    "        df['w_i/h'] = df['w_i'].apply(lambda n_i: round(n_i/h, 3))\n",
    "            \n",
    "        return df\n",
    "    \n",
    "    def interval_polygon(self):\n",
    "        fig, ax = plt.subplots()\n",
    "        \n",
    "        xStartData = self.interval_series()['start'].tolist()\n",
    "        xEndData = self.interval_series()['end'].tolist()\n",
    "        wData = self.interval_series()['w_i'].tolist()\n",
    "        \n",
    "        x = []\n",
    "        for i in range(len(xStartData)):\n",
    "            x.append((xStartData[i] + xEndData[i]) / 2)\n",
    "        \n",
    "        ax.plot(x, wData, marker='.', linewidth = 2)\n",
    "        \n",
    "        ax.xaxis.set_major_locator(ticker.MultipleLocator(0.01))\n",
    "        ax.yaxis.set_major_locator(ticker.MultipleLocator(0.01))\n",
    "        ax.grid(which='major', color = 'gray', linestyle = ':')\n",
    "        ax.set_xlabel('x_i')\n",
    "        ax.set_ylabel('w_i')\n",
    "    \n",
    "    def interval_F(self):\n",
    "        xData = self.variational_series()['x_i'].tolist()\n",
    "        nData = self.interval_series()['n_i'].tolist()\n",
    "        intervalStart = self.interval_series()['start'].tolist()\n",
    "        intervalEnd = self.interval_series()['end'].tolist()\n",
    "        \n",
    "        F = [0]\n",
    "        value = 0\n",
    "        for i in range(len(intervalEnd) - 1):\n",
    "            value += nData[i] / self.n\n",
    "            F.append(round(value, 4))\n",
    "        F.append(1)\n",
    "        \n",
    "        df = pd.DataFrame(zip([intervalStart[0]] + intervalEnd, F), columns=['x', 'F'])\n",
    "        \n",
    "        return F, df\n",
    "\n",
    "    def F_plot(self, mod):     \n",
    "        fig, ax = plt.subplots()\n",
    "        \n",
    "        ax.xaxis.set_major_locator(ticker.MultipleLocator(0.01))\n",
    "        ax.yaxis.set_major_locator(ticker.MultipleLocator(0.1))\n",
    "        ax.grid(which='major', color = 'gray', linestyle = ':')\n",
    "        ax.set_xlabel('x_i')\n",
    "        ax.set_ylabel('F')\n",
    "        \n",
    "        if mod == 1:\n",
    "            xData = self.variational_series()['x_i'].tolist()\n",
    "            wData = self.variational_series()['w_i'].tolist()\n",
    "            \n",
    "            x = np.linspace(xData[0], xData[-1], 100)\n",
    "            w = self.discrete_F()[1]\n",
    "            w[0] = w[2]\n",
    "            ax.plot(x, w, linewidth = 2, color='b')\n",
    "            \n",
    "        if mod == 2:\n",
    "            xData = self.variational_series()['x_i'].tolist()\n",
    "            \n",
    "            x = [xData[0]] + self.interval_series()['end'].tolist()\n",
    "            y = self.interval_F()[0]\n",
    "            ax.plot(x, y, linewidth = 2, color='r', marker='.')\n",
    "            \n",
    "        if mod == 3:\n",
    "            xData = self.variational_series()['x_i'].tolist()\n",
    "            wData = self.variational_series()['w_i'].tolist()\n",
    "            w = self.discrete_F()[1]\n",
    "            x1 = np.linspace(xData[0], xData[-1], 100)\n",
    "            w[0] = w[2]\n",
    "            \n",
    "            ax.plot(x1, w, linewidth = 2, color='b')\n",
    "            \n",
    "            x2 = [xData[0]] + self.interval_series()['end'].tolist()\n",
    "            y = self.interval_F()[0]\n",
    "            \n",
    "            ax.plot(x2, y, linewidth = 2, color='r', marker='.')\n",
    "\n",
    "    def w_histogram(self):\n",
    "        intervalStart = self.interval_series()['start'].tolist()\n",
    "        intervalEnd = self.interval_series()['end'].tolist()\n",
    "        \n",
    "        n, bins, rects = plt.hist([], bins=[intervalStart[0]] + intervalEnd, ec='k')\n",
    "        \n",
    "        for i in range(len(rects)):\n",
    "            rects[i].set_height(self.interval_series()['w_i/h'].tolist()[i])\n",
    "\n",
    "        plt.ylim(0, max(self.interval_series()['w_i/h'].tolist()) + 1)\n",
    "        plt.show()\n",
    "        "
   ]
  },
  {
   "cell_type": "code",
   "execution_count": 3,
   "id": "60c86e6f-15f2-4855-9ddf-86b4a051c40c",
   "metadata": {},
   "outputs": [],
   "source": [
    "inputData = pd.read_csv(r'D:/kpi/Statistica/CalcAndGraphic/Work1/data.csv')\n",
    "MachNumbers = Data(inputData)"
   ]
  },
  {
   "cell_type": "code",
   "execution_count": 4,
   "id": "73af2102-7d24-44c6-9b65-20ce6f8efbd3",
   "metadata": {},
   "outputs": [
    {
     "data": {
      "text/html": [
       "<div>\n",
       "<style scoped>\n",
       "    .dataframe tbody tr th:only-of-type {\n",
       "        vertical-align: middle;\n",
       "    }\n",
       "\n",
       "    .dataframe tbody tr th {\n",
       "        vertical-align: top;\n",
       "    }\n",
       "\n",
       "    .dataframe thead th {\n",
       "        text-align: right;\n",
       "    }\n",
       "</style>\n",
       "<table border=\"1\" class=\"dataframe\">\n",
       "  <thead>\n",
       "    <tr style=\"text-align: right;\">\n",
       "      <th></th>\n",
       "      <th>x_i</th>\n",
       "      <th>n_i</th>\n",
       "      <th>w_i</th>\n",
       "    </tr>\n",
       "  </thead>\n",
       "  <tbody>\n",
       "    <tr>\n",
       "      <th>6</th>\n",
       "      <td>0.56</td>\n",
       "      <td>2</td>\n",
       "      <td>0.066667</td>\n",
       "    </tr>\n",
       "    <tr>\n",
       "      <th>7</th>\n",
       "      <td>0.57</td>\n",
       "      <td>2</td>\n",
       "      <td>0.066667</td>\n",
       "    </tr>\n",
       "    <tr>\n",
       "      <th>8</th>\n",
       "      <td>0.58</td>\n",
       "      <td>2</td>\n",
       "      <td>0.066667</td>\n",
       "    </tr>\n",
       "    <tr>\n",
       "      <th>2</th>\n",
       "      <td>0.59</td>\n",
       "      <td>3</td>\n",
       "      <td>0.100000</td>\n",
       "    </tr>\n",
       "    <tr>\n",
       "      <th>0</th>\n",
       "      <td>0.60</td>\n",
       "      <td>4</td>\n",
       "      <td>0.133333</td>\n",
       "    </tr>\n",
       "    <tr>\n",
       "      <th>1</th>\n",
       "      <td>0.61</td>\n",
       "      <td>4</td>\n",
       "      <td>0.133333</td>\n",
       "    </tr>\n",
       "    <tr>\n",
       "      <th>3</th>\n",
       "      <td>0.62</td>\n",
       "      <td>3</td>\n",
       "      <td>0.100000</td>\n",
       "    </tr>\n",
       "    <tr>\n",
       "      <th>9</th>\n",
       "      <td>0.63</td>\n",
       "      <td>2</td>\n",
       "      <td>0.066667</td>\n",
       "    </tr>\n",
       "    <tr>\n",
       "      <th>4</th>\n",
       "      <td>0.64</td>\n",
       "      <td>3</td>\n",
       "      <td>0.100000</td>\n",
       "    </tr>\n",
       "    <tr>\n",
       "      <th>10</th>\n",
       "      <td>0.65</td>\n",
       "      <td>2</td>\n",
       "      <td>0.066667</td>\n",
       "    </tr>\n",
       "    <tr>\n",
       "      <th>5</th>\n",
       "      <td>0.66</td>\n",
       "      <td>3</td>\n",
       "      <td>0.100000</td>\n",
       "    </tr>\n",
       "  </tbody>\n",
       "</table>\n",
       "</div>"
      ],
      "text/plain": [
       "     x_i  n_i       w_i\n",
       "6   0.56    2  0.066667\n",
       "7   0.57    2  0.066667\n",
       "8   0.58    2  0.066667\n",
       "2   0.59    3  0.100000\n",
       "0   0.60    4  0.133333\n",
       "1   0.61    4  0.133333\n",
       "3   0.62    3  0.100000\n",
       "9   0.63    2  0.066667\n",
       "4   0.64    3  0.100000\n",
       "10  0.65    2  0.066667\n",
       "5   0.66    3  0.100000"
      ]
     },
     "execution_count": 4,
     "metadata": {},
     "output_type": "execute_result"
    }
   ],
   "source": [
    "MachNumbers.variational_series()"
   ]
  },
  {
   "cell_type": "code",
   "execution_count": 5,
   "id": "bef3077e-27fd-4e58-a990-f3ab18032027",
   "metadata": {},
   "outputs": [
    {
     "data": {
      "text/plain": [
       "(30, 1.0)"
      ]
     },
     "execution_count": 5,
     "metadata": {},
     "output_type": "execute_result"
    }
   ],
   "source": [
    "MachNumbers.variational_series()['n_i'].sum(), MachNumbers.variational_series()['w_i'].sum()"
   ]
  },
  {
   "cell_type": "code",
   "execution_count": 6,
   "id": "2b981966-25fd-47c7-bfe2-9b4827be4989",
   "metadata": {},
   "outputs": [
    {
     "data": {
      "image/png": "[encoded data removed]",
      "text/plain": [
       "<Figure size 432x288 with 1 Axes>"
      ]
     },
     "metadata": {
      "needs_background": "light"
     },
     "output_type": "display_data"
    }
   ],
   "source": [
    "MachNumbers.series_polygon()"
   ]
  },
  {
   "cell_type": "code",
   "execution_count": 7,
   "id": "11dd0763-8784-416d-9296-339d5e91ac24",
   "metadata": {},
   "outputs": [
    {
     "data": {
      "text/html": [
       "<div>\n",
       "<style scoped>\n",
       "    .dataframe tbody tr th:only-of-type {\n",
       "        vertical-align: middle;\n",
       "    }\n",
       "\n",
       "    .dataframe tbody tr th {\n",
       "        vertical-align: top;\n",
       "    }\n",
       "\n",
       "    .dataframe thead th {\n",
       "        text-align: right;\n",
       "    }\n",
       "</style>\n",
       "<table border=\"1\" class=\"dataframe\">\n",
       "  <thead>\n",
       "    <tr style=\"text-align: right;\">\n",
       "      <th></th>\n",
       "      <th>interval</th>\n",
       "      <th>F</th>\n",
       "    </tr>\n",
       "  </thead>\n",
       "  <tbody>\n",
       "    <tr>\n",
       "      <th>0</th>\n",
       "      <td>(-inf, 0.56]</td>\n",
       "      <td>0.000000</td>\n",
       "    </tr>\n",
       "    <tr>\n",
       "      <th>1</th>\n",
       "      <td>(0.56, 0.57]</td>\n",
       "      <td>0.066667</td>\n",
       "    </tr>\n",
       "    <tr>\n",
       "      <th>2</th>\n",
       "      <td>(0.57, 0.58]</td>\n",
       "      <td>0.133333</td>\n",
       "    </tr>\n",
       "    <tr>\n",
       "      <th>3</th>\n",
       "      <td>(0.58, 0.59]</td>\n",
       "      <td>0.200000</td>\n",
       "    </tr>\n",
       "    <tr>\n",
       "      <th>4</th>\n",
       "      <td>(0.59, 0.6]</td>\n",
       "      <td>0.300000</td>\n",
       "    </tr>\n",
       "    <tr>\n",
       "      <th>5</th>\n",
       "      <td>(0.6, 0.61]</td>\n",
       "      <td>0.433333</td>\n",
       "    </tr>\n",
       "    <tr>\n",
       "      <th>6</th>\n",
       "      <td>(0.61, 0.62]</td>\n",
       "      <td>0.566667</td>\n",
       "    </tr>\n",
       "    <tr>\n",
       "      <th>7</th>\n",
       "      <td>(0.62, 0.63]</td>\n",
       "      <td>0.666667</td>\n",
       "    </tr>\n",
       "    <tr>\n",
       "      <th>8</th>\n",
       "      <td>(0.63, 0.64]</td>\n",
       "      <td>0.733333</td>\n",
       "    </tr>\n",
       "    <tr>\n",
       "      <th>9</th>\n",
       "      <td>(0.64, 0.65]</td>\n",
       "      <td>0.833333</td>\n",
       "    </tr>\n",
       "    <tr>\n",
       "      <th>10</th>\n",
       "      <td>(0.65, 0.66]</td>\n",
       "      <td>0.900000</td>\n",
       "    </tr>\n",
       "    <tr>\n",
       "      <th>11</th>\n",
       "      <td>(0.66, inf)</td>\n",
       "      <td>1.000000</td>\n",
       "    </tr>\n",
       "  </tbody>\n",
       "</table>\n",
       "</div>"
      ],
      "text/plain": [
       "        interval         F\n",
       "0   (-inf, 0.56]  0.000000\n",
       "1   (0.56, 0.57]  0.066667\n",
       "2   (0.57, 0.58]  0.133333\n",
       "3   (0.58, 0.59]  0.200000\n",
       "4    (0.59, 0.6]  0.300000\n",
       "5    (0.6, 0.61]  0.433333\n",
       "6   (0.61, 0.62]  0.566667\n",
       "7   (0.62, 0.63]  0.666667\n",
       "8   (0.63, 0.64]  0.733333\n",
       "9   (0.64, 0.65]  0.833333\n",
       "10  (0.65, 0.66]  0.900000\n",
       "11   (0.66, inf)  1.000000"
      ]
     },
     "execution_count": 7,
     "metadata": {},
     "output_type": "execute_result"
    }
   ],
   "source": [
    "MachNumbers.discrete_F()[0]"
   ]
  },
  {
   "cell_type": "code",
   "execution_count": 8,
   "id": "96e4e1b5",
   "metadata": {},
   "outputs": [
    {
     "data": {
      "image/png": "[encoded data removed]",
      "text/plain": [
       "<Figure size 432x288 with 1 Axes>"
      ]
     },
     "metadata": {
      "needs_background": "light"
     },
     "output_type": "display_data"
    }
   ],
   "source": [
    "MachNumbers.F_plot(1)"
   ]
  },
  {
   "cell_type": "code",
   "execution_count": 9,
   "id": "ee3b0421",
   "metadata": {},
   "outputs": [
    {
     "data": {
      "text/html": [
       "<div>\n",
       "<style scoped>\n",
       "    .dataframe tbody tr th:only-of-type {\n",
       "        vertical-align: middle;\n",
       "    }\n",
       "\n",
       "    .dataframe tbody tr th {\n",
       "        vertical-align: top;\n",
       "    }\n",
       "\n",
       "    .dataframe thead th {\n",
       "        text-align: right;\n",
       "    }\n",
       "</style>\n",
       "<table border=\"1\" class=\"dataframe\">\n",
       "  <thead>\n",
       "    <tr style=\"text-align: right;\">\n",
       "      <th></th>\n",
       "      <th>start</th>\n",
       "      <th>end</th>\n",
       "      <th>n_i</th>\n",
       "      <th>w_i</th>\n",
       "      <th>w_i/h</th>\n",
       "    </tr>\n",
       "  </thead>\n",
       "  <tbody>\n",
       "    <tr>\n",
       "      <th>0</th>\n",
       "      <td>0.5600</td>\n",
       "      <td>0.5685</td>\n",
       "      <td>2</td>\n",
       "      <td>0.066667</td>\n",
       "      <td>3.922</td>\n",
       "    </tr>\n",
       "    <tr>\n",
       "      <th>1</th>\n",
       "      <td>0.5685</td>\n",
       "      <td>0.5855</td>\n",
       "      <td>4</td>\n",
       "      <td>0.133333</td>\n",
       "      <td>7.843</td>\n",
       "    </tr>\n",
       "    <tr>\n",
       "      <th>2</th>\n",
       "      <td>0.5855</td>\n",
       "      <td>0.6025</td>\n",
       "      <td>7</td>\n",
       "      <td>0.233333</td>\n",
       "      <td>13.725</td>\n",
       "    </tr>\n",
       "    <tr>\n",
       "      <th>3</th>\n",
       "      <td>0.6025</td>\n",
       "      <td>0.6195</td>\n",
       "      <td>4</td>\n",
       "      <td>0.133333</td>\n",
       "      <td>7.843</td>\n",
       "    </tr>\n",
       "    <tr>\n",
       "      <th>4</th>\n",
       "      <td>0.6195</td>\n",
       "      <td>0.6365</td>\n",
       "      <td>5</td>\n",
       "      <td>0.166667</td>\n",
       "      <td>9.804</td>\n",
       "    </tr>\n",
       "    <tr>\n",
       "      <th>5</th>\n",
       "      <td>0.6365</td>\n",
       "      <td>0.6535</td>\n",
       "      <td>5</td>\n",
       "      <td>0.166667</td>\n",
       "      <td>9.804</td>\n",
       "    </tr>\n",
       "    <tr>\n",
       "      <th>6</th>\n",
       "      <td>0.6535</td>\n",
       "      <td>0.6600</td>\n",
       "      <td>3</td>\n",
       "      <td>0.100000</td>\n",
       "      <td>5.882</td>\n",
       "    </tr>\n",
       "  </tbody>\n",
       "</table>\n",
       "</div>"
      ],
      "text/plain": [
       "    start     end  n_i       w_i   w_i/h\n",
       "0  0.5600  0.5685    2  0.066667   3.922\n",
       "1  0.5685  0.5855    4  0.133333   7.843\n",
       "2  0.5855  0.6025    7  0.233333  13.725\n",
       "3  0.6025  0.6195    4  0.133333   7.843\n",
       "4  0.6195  0.6365    5  0.166667   9.804\n",
       "5  0.6365  0.6535    5  0.166667   9.804\n",
       "6  0.6535  0.6600    3  0.100000   5.882"
      ]
     },
     "execution_count": 9,
     "metadata": {},
     "output_type": "execute_result"
    }
   ],
   "source": [
    "MachNumbers.interval_series()"
   ]
  },
  {
   "cell_type": "code",
   "execution_count": 10,
   "id": "c5bc9069",
   "metadata": {},
   "outputs": [
    {
     "data": {
      "image/png": "[encoded data removed]",
      "text/plain": [
       "<Figure size 432x288 with 1 Axes>"
      ]
     },
     "metadata": {
      "needs_background": "light"
     },
     "output_type": "display_data"
    }
   ],
   "source": [
    "MachNumbers.interval_polygon()"
   ]
  },
  {
   "cell_type": "code",
   "execution_count": 11,
   "id": "fae74b0c",
   "metadata": {},
   "outputs": [
    {
     "data": {
      "text/html": [
       "<div>\n",
       "<style scoped>\n",
       "    .dataframe tbody tr th:only-of-type {\n",
       "        vertical-align: middle;\n",
       "    }\n",
       "\n",
       "    .dataframe tbody tr th {\n",
       "        vertical-align: top;\n",
       "    }\n",
       "\n",
       "    .dataframe thead th {\n",
       "        text-align: right;\n",
       "    }\n",
       "</style>\n",
       "<table border=\"1\" class=\"dataframe\">\n",
       "  <thead>\n",
       "    <tr style=\"text-align: right;\">\n",
       "      <th></th>\n",
       "      <th>x</th>\n",
       "      <th>F</th>\n",
       "    </tr>\n",
       "  </thead>\n",
       "  <tbody>\n",
       "    <tr>\n",
       "      <th>0</th>\n",
       "      <td>0.5600</td>\n",
       "      <td>0.0000</td>\n",
       "    </tr>\n",
       "    <tr>\n",
       "      <th>1</th>\n",
       "      <td>0.5685</td>\n",
       "      <td>0.0667</td>\n",
       "    </tr>\n",
       "    <tr>\n",
       "      <th>2</th>\n",
       "      <td>0.5855</td>\n",
       "      <td>0.2000</td>\n",
       "    </tr>\n",
       "    <tr>\n",
       "      <th>3</th>\n",
       "      <td>0.6025</td>\n",
       "      <td>0.4333</td>\n",
       "    </tr>\n",
       "    <tr>\n",
       "      <th>4</th>\n",
       "      <td>0.6195</td>\n",
       "      <td>0.5667</td>\n",
       "    </tr>\n",
       "    <tr>\n",
       "      <th>5</th>\n",
       "      <td>0.6365</td>\n",
       "      <td>0.7333</td>\n",
       "    </tr>\n",
       "    <tr>\n",
       "      <th>6</th>\n",
       "      <td>0.6535</td>\n",
       "      <td>0.9000</td>\n",
       "    </tr>\n",
       "    <tr>\n",
       "      <th>7</th>\n",
       "      <td>0.6600</td>\n",
       "      <td>1.0000</td>\n",
       "    </tr>\n",
       "  </tbody>\n",
       "</table>\n",
       "</div>"
      ],
      "text/plain": [
       "        x       F\n",
       "0  0.5600  0.0000\n",
       "1  0.5685  0.0667\n",
       "2  0.5855  0.2000\n",
       "3  0.6025  0.4333\n",
       "4  0.6195  0.5667\n",
       "5  0.6365  0.7333\n",
       "6  0.6535  0.9000\n",
       "7  0.6600  1.0000"
      ]
     },
     "execution_count": 11,
     "metadata": {},
     "output_type": "execute_result"
    }
   ],
   "source": [
    "MachNumbers.interval_F()[1]"
   ]
  },
  {
   "cell_type": "code",
   "execution_count": 12,
   "id": "9f8905ee",
   "metadata": {},
   "outputs": [
    {
     "data": {
      "image/png": "[encoded data removed]",
      "text/plain": [
       "<Figure size 432x288 with 1 Axes>"
      ]
     },
     "metadata": {
      "needs_background": "light"
     },
     "output_type": "display_data"
    }
   ],
   "source": [
    "MachNumbers.F_plot(2)"
   ]
  },
  {
   "cell_type": "code",
   "execution_count": 13,
   "id": "c66f6ac9-e949-443e-ae8e-7f8610a1fb1f",
   "metadata": {},
   "outputs": [
    {
     "data": {
      "image/png": "[encoded data removed]",
      "text/plain": [
       "<Figure size 432x288 with 1 Axes>"
      ]
     },
     "metadata": {
      "needs_background": "light"
     },
     "output_type": "display_data"
    }
   ],
   "source": [
    "MachNumbers.F_plot(3)"
   ]
  },
  {
   "cell_type": "code",
   "execution_count": 14,
   "id": "1197aeea",
   "metadata": {},
   "outputs": [
    {
     "data": {
      "image/png": "[encoded data removed]",
      "text/plain": [
       "<Figure size 432x288 with 1 Axes>"
      ]
     },
     "metadata": {
      "needs_background": "light"
     },
     "output_type": "display_data"
    }
   ],
   "source": [
    "MachNumbers.w_histogram()"
   ]
  },
  {
   "cell_type": "code",
   "execution_count": null,
   "id": "19fb1beb",
   "metadata": {},
   "outputs": [],
   "source": []
  },
  {
   "cell_type": "code",
   "execution_count": null,
   "id": "0a335668",
   "metadata": {},
   "outputs": [],
   "source": []
  }
 ],
 "metadata": {
  "kernelspec": {
   "display_name": "venv",
   "language": "python",
   "name": "venv"
  },
  "language_info": {
   "codemirror_mode": {
    "name": "ipython",
    "version": 3
   },
   "file_extension": ".py",
   "mimetype": "text/x-python",
   "name": "python",
   "nbconvert_exporter": "python",
   "pygments_lexer": "ipython3",
   "version": "3.10.0"
  }
 },
 "nbformat": 4,
 "nbformat_minor": 5
}
